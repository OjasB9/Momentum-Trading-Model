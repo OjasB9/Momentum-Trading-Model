{
 "cells": [
  {
   "cell_type": "markdown",
   "id": "6c47df08",
   "metadata": {
    "papermill": {
     "duration": 0.005534,
     "end_time": "2022-08-17T05:34:13.079308",
     "exception": false,
     "start_time": "2022-08-17T05:34:13.073774",
     "status": "completed"
    },
    "tags": []
   },
   "source": [
    "# Developing \"Momentum\" Trading Strategy\n",
    "* Many differnt takes on this strategy\n",
    "* Sometimes referred to as trend following\n",
    "* First need to research potential trading signals"
   ]
  },
  {
   "cell_type": "code",
   "execution_count": 1,
   "id": "c89fc9bc",
   "metadata": {
    "execution": {
     "iopub.execute_input": "2022-08-17T05:34:13.091186Z",
     "iopub.status.busy": "2022-08-17T05:34:13.090327Z",
     "iopub.status.idle": "2022-08-17T05:34:26.862958Z",
     "shell.execute_reply": "2022-08-17T05:34:26.861562Z"
    },
    "papermill": {
     "duration": 13.781873,
     "end_time": "2022-08-17T05:34:26.866000",
     "exception": false,
     "start_time": "2022-08-17T05:34:13.084127",
     "status": "completed"
    },
    "tags": []
   },
   "outputs": [
    {
     "name": "stdout",
     "output_type": "stream",
     "text": [
      "Collecting yfinance\r\n",
      "  Downloading yfinance-0.1.74-py2.py3-none-any.whl (27 kB)\r\n",
      "Requirement already satisfied: pandas>=0.24.0 in /opt/conda/lib/python3.7/site-packages (from yfinance) (1.3.5)\r\n",
      "Requirement already satisfied: lxml>=4.5.1 in /opt/conda/lib/python3.7/site-packages (from yfinance) (4.9.1)\r\n",
      "Requirement already satisfied: requests>=2.26 in /opt/conda/lib/python3.7/site-packages (from yfinance) (2.28.1)\r\n",
      "Requirement already satisfied: numpy>=1.15 in /opt/conda/lib/python3.7/site-packages (from yfinance) (1.21.6)\r\n",
      "Collecting multitasking>=0.0.7\r\n",
      "  Downloading multitasking-0.0.11-py3-none-any.whl (8.5 kB)\r\n",
      "Requirement already satisfied: python-dateutil>=2.7.3 in /opt/conda/lib/python3.7/site-packages (from pandas>=0.24.0->yfinance) (2.8.2)\r\n",
      "Requirement already satisfied: pytz>=2017.3 in /opt/conda/lib/python3.7/site-packages (from pandas>=0.24.0->yfinance) (2022.1)\r\n",
      "Requirement already satisfied: idna<4,>=2.5 in /opt/conda/lib/python3.7/site-packages (from requests>=2.26->yfinance) (3.3)\r\n",
      "Requirement already satisfied: certifi>=2017.4.17 in /opt/conda/lib/python3.7/site-packages (from requests>=2.26->yfinance) (2022.6.15)\r\n",
      "Requirement already satisfied: urllib3<1.27,>=1.21.1 in /opt/conda/lib/python3.7/site-packages (from requests>=2.26->yfinance) (1.26.9)\r\n",
      "Requirement already satisfied: charset-normalizer<3,>=2 in /opt/conda/lib/python3.7/site-packages (from requests>=2.26->yfinance) (2.1.0)\r\n",
      "Requirement already satisfied: six>=1.5 in /opt/conda/lib/python3.7/site-packages (from python-dateutil>=2.7.3->pandas>=0.24.0->yfinance) (1.16.0)\r\n",
      "Installing collected packages: multitasking, yfinance\r\n",
      "Successfully installed multitasking-0.0.11 yfinance-0.1.74\r\n",
      "\u001b[33mWARNING: Running pip as the 'root' user can result in broken permissions and conflicting behaviour with the system package manager. It is recommended to use a virtual environment instead: https://pip.pypa.io/warnings/venv\u001b[0m\u001b[33m\r\n",
      "\u001b[0m"
     ]
    }
   ],
   "source": [
    "# importing libraries\n",
    "import numpy as np                          \n",
    "import pandas as pd\n",
    "!pip install yfinance\n",
    "import yfinance as yf\n",
    "import matplotlib.pyplot as plt"
   ]
  },
  {
   "cell_type": "markdown",
   "id": "1e879682",
   "metadata": {
    "papermill": {
     "duration": 0.004719,
     "end_time": "2022-08-17T05:34:26.875947",
     "exception": false,
     "start_time": "2022-08-17T05:34:26.871228",
     "status": "completed"
    },
    "tags": []
   },
   "source": [
    "### 1. Download data: \n",
    "* Yahoo Finance API\n",
    "* Typically trading \"systems\" involve a number of securities\n",
    "* For this project I am just going to look at GLD --> the gold ETF (an exchange trade fund that tracks the price of gold)"
   ]
  },
  {
   "cell_type": "code",
   "execution_count": 2,
   "id": "699a33ef",
   "metadata": {
    "execution": {
     "iopub.execute_input": "2022-08-17T05:34:26.888588Z",
     "iopub.status.busy": "2022-08-17T05:34:26.887772Z",
     "iopub.status.idle": "2022-08-17T05:34:27.660440Z",
     "shell.execute_reply": "2022-08-17T05:34:27.658845Z"
    },
    "papermill": {
     "duration": 0.782706,
     "end_time": "2022-08-17T05:34:27.663622",
     "exception": false,
     "start_time": "2022-08-17T05:34:26.880916",
     "status": "completed"
    },
    "tags": []
   },
   "outputs": [
    {
     "name": "stdout",
     "output_type": "stream",
     "text": [
      "[*********************100%***********************]  1 of 1 completed\n"
     ]
    },
    {
     "data": {
      "text/html": [
       "<div>\n",
       "<style scoped>\n",
       "    .dataframe tbody tr th:only-of-type {\n",
       "        vertical-align: middle;\n",
       "    }\n",
       "\n",
       "    .dataframe tbody tr th {\n",
       "        vertical-align: top;\n",
       "    }\n",
       "\n",
       "    .dataframe thead th {\n",
       "        text-align: right;\n",
       "    }\n",
       "</style>\n",
       "<table border=\"1\" class=\"dataframe\">\n",
       "  <thead>\n",
       "    <tr style=\"text-align: right;\">\n",
       "      <th></th>\n",
       "      <th>day</th>\n",
       "      <th>Open</th>\n",
       "      <th>High</th>\n",
       "      <th>Low</th>\n",
       "      <th>Close</th>\n",
       "    </tr>\n",
       "    <tr>\n",
       "      <th>Date</th>\n",
       "      <th></th>\n",
       "      <th></th>\n",
       "      <th></th>\n",
       "      <th></th>\n",
       "      <th></th>\n",
       "    </tr>\n",
       "  </thead>\n",
       "  <tbody>\n",
       "    <tr>\n",
       "      <th>2004-11-18</th>\n",
       "      <td>1</td>\n",
       "      <td>44.430000</td>\n",
       "      <td>44.490002</td>\n",
       "      <td>44.070000</td>\n",
       "      <td>44.380001</td>\n",
       "    </tr>\n",
       "    <tr>\n",
       "      <th>2004-11-19</th>\n",
       "      <td>2</td>\n",
       "      <td>44.490002</td>\n",
       "      <td>44.919998</td>\n",
       "      <td>44.470001</td>\n",
       "      <td>44.779999</td>\n",
       "    </tr>\n",
       "    <tr>\n",
       "      <th>2004-11-22</th>\n",
       "      <td>3</td>\n",
       "      <td>44.750000</td>\n",
       "      <td>44.970001</td>\n",
       "      <td>44.740002</td>\n",
       "      <td>44.950001</td>\n",
       "    </tr>\n",
       "    <tr>\n",
       "      <th>2004-11-23</th>\n",
       "      <td>4</td>\n",
       "      <td>44.880001</td>\n",
       "      <td>44.919998</td>\n",
       "      <td>44.720001</td>\n",
       "      <td>44.750000</td>\n",
       "    </tr>\n",
       "    <tr>\n",
       "      <th>2004-11-24</th>\n",
       "      <td>5</td>\n",
       "      <td>44.930000</td>\n",
       "      <td>45.049999</td>\n",
       "      <td>44.790001</td>\n",
       "      <td>45.049999</td>\n",
       "    </tr>\n",
       "  </tbody>\n",
       "</table>\n",
       "</div>"
      ],
      "text/plain": [
       "            day       Open       High        Low      Close\n",
       "Date                                                       \n",
       "2004-11-18    1  44.430000  44.490002  44.070000  44.380001\n",
       "2004-11-19    2  44.490002  44.919998  44.470001  44.779999\n",
       "2004-11-22    3  44.750000  44.970001  44.740002  44.950001\n",
       "2004-11-23    4  44.880001  44.919998  44.720001  44.750000\n",
       "2004-11-24    5  44.930000  45.049999  44.790001  45.049999"
      ]
     },
     "execution_count": 2,
     "metadata": {},
     "output_type": "execute_result"
    }
   ],
   "source": [
    "gld = yf.download('GLD')                             # default option gives ~5 years of data\n",
    "day = np.arange(1, len(gld) + 1)                            # adding day column to the df to keep track of which day we're at\n",
    "gld['day'] = day\n",
    "gld.drop(columns=['Adj Close', 'Volume'], inplace = True)   # dropping cols i don't need permanently\n",
    "gld = gld[['day', 'Open', 'High', 'Low', 'Close']]          # reordering the cols\n",
    "gld.head()"
   ]
  },
  {
   "cell_type": "code",
   "execution_count": 3,
   "id": "8c8c80cd",
   "metadata": {
    "execution": {
     "iopub.execute_input": "2022-08-17T05:34:27.677389Z",
     "iopub.status.busy": "2022-08-17T05:34:27.676856Z",
     "iopub.status.idle": "2022-08-17T05:34:27.695029Z",
     "shell.execute_reply": "2022-08-17T05:34:27.693284Z"
    },
    "papermill": {
     "duration": 0.028873,
     "end_time": "2022-08-17T05:34:27.698296",
     "exception": false,
     "start_time": "2022-08-17T05:34:27.669423",
     "status": "completed"
    },
    "tags": []
   },
   "outputs": [
    {
     "name": "stdout",
     "output_type": "stream",
     "text": [
      "<class 'pandas.core.frame.DataFrame'>\n",
      "DatetimeIndex: 4466 entries, 2004-11-18 to 2022-08-16\n",
      "Data columns (total 5 columns):\n",
      " #   Column  Non-Null Count  Dtype  \n",
      "---  ------  --------------  -----  \n",
      " 0   day     4466 non-null   int64  \n",
      " 1   Open    4466 non-null   float64\n",
      " 2   High    4466 non-null   float64\n",
      " 3   Low     4466 non-null   float64\n",
      " 4   Close   4466 non-null   float64\n",
      "dtypes: float64(4), int64(1)\n",
      "memory usage: 209.3 KB\n"
     ]
    }
   ],
   "source": [
    "gld.info()                                            # basic details of df"
   ]
  },
  {
   "cell_type": "markdown",
   "id": "85eadd3f",
   "metadata": {
    "papermill": {
     "duration": 0.005262,
     "end_time": "2022-08-17T05:34:27.709597",
     "exception": false,
     "start_time": "2022-08-17T05:34:27.704335",
     "status": "completed"
    },
    "tags": []
   },
   "source": [
    "### 2. Add data/transform data\n",
    "* calculating signal based on some price or statistical action\n",
    "* I am going to try a moving average crossover to generate signals\n",
    "* I go long when the fast one crosses the slow one, I go short when the slow one crosses the fast one\n",
    "* for this strategy I will always be \"in\" a trade, either long or short\n",
    "* Even though it's a low risk strategy, there is always some 'risk' due to market variations in real life"
   ]
  },
  {
   "cell_type": "markdown",
   "id": "ea892657",
   "metadata": {
    "papermill": {
     "duration": 0.005214,
     "end_time": "2022-08-17T05:34:27.720440",
     "exception": false,
     "start_time": "2022-08-17T05:34:27.715226",
     "status": "completed"
    },
    "tags": []
   },
   "source": [
    "#### Add moving averages to the data frame"
   ]
  },
  {
   "cell_type": "code",
   "execution_count": 4,
   "id": "08f7fc7d",
   "metadata": {
    "execution": {
     "iopub.execute_input": "2022-08-17T05:34:27.733463Z",
     "iopub.status.busy": "2022-08-17T05:34:27.733061Z",
     "iopub.status.idle": "2022-08-17T05:34:27.754996Z",
     "shell.execute_reply": "2022-08-17T05:34:27.753360Z"
    },
    "papermill": {
     "duration": 0.032633,
     "end_time": "2022-08-17T05:34:27.758706",
     "exception": false,
     "start_time": "2022-08-17T05:34:27.726073",
     "status": "completed"
    },
    "tags": []
   },
   "outputs": [
    {
     "name": "stderr",
     "output_type": "stream",
     "text": [
      "/opt/conda/lib/python3.7/site-packages/ipykernel_launcher.py:1: SettingWithCopyWarning: \n",
      "A value is trying to be set on a copy of a slice from a DataFrame.\n",
      "Try using .loc[row_indexer,col_indexer] = value instead\n",
      "\n",
      "See the caveats in the documentation: https://pandas.pydata.org/pandas-docs/stable/user_guide/indexing.html#returning-a-view-versus-a-copy\n",
      "  \"\"\"Entry point for launching an IPython kernel.\n",
      "/opt/conda/lib/python3.7/site-packages/ipykernel_launcher.py:2: SettingWithCopyWarning: \n",
      "A value is trying to be set on a copy of a slice from a DataFrame.\n",
      "Try using .loc[row_indexer,col_indexer] = value instead\n",
      "\n",
      "See the caveats in the documentation: https://pandas.pydata.org/pandas-docs/stable/user_guide/indexing.html#returning-a-view-versus-a-copy\n",
      "  \n"
     ]
    },
    {
     "data": {
      "text/html": [
       "<div>\n",
       "<style scoped>\n",
       "    .dataframe tbody tr th:only-of-type {\n",
       "        vertical-align: middle;\n",
       "    }\n",
       "\n",
       "    .dataframe tbody tr th {\n",
       "        vertical-align: top;\n",
       "    }\n",
       "\n",
       "    .dataframe thead th {\n",
       "        text-align: right;\n",
       "    }\n",
       "</style>\n",
       "<table border=\"1\" class=\"dataframe\">\n",
       "  <thead>\n",
       "    <tr style=\"text-align: right;\">\n",
       "      <th></th>\n",
       "      <th>day</th>\n",
       "      <th>Open</th>\n",
       "      <th>High</th>\n",
       "      <th>Low</th>\n",
       "      <th>Close</th>\n",
       "      <th>9-day</th>\n",
       "      <th>21-day</th>\n",
       "    </tr>\n",
       "    <tr>\n",
       "      <th>Date</th>\n",
       "      <th></th>\n",
       "      <th></th>\n",
       "      <th></th>\n",
       "      <th></th>\n",
       "      <th></th>\n",
       "      <th></th>\n",
       "      <th></th>\n",
       "    </tr>\n",
       "  </thead>\n",
       "  <tbody>\n",
       "    <tr>\n",
       "      <th>2004-12-16</th>\n",
       "      <td>20</td>\n",
       "      <td>43.990002</td>\n",
       "      <td>44.049999</td>\n",
       "      <td>43.580002</td>\n",
       "      <td>43.680000</td>\n",
       "      <td>44.071111</td>\n",
       "      <td>NaN</td>\n",
       "    </tr>\n",
       "    <tr>\n",
       "      <th>2004-12-17</th>\n",
       "      <td>21</td>\n",
       "      <td>43.930000</td>\n",
       "      <td>44.220001</td>\n",
       "      <td>43.779999</td>\n",
       "      <td>44.189999</td>\n",
       "      <td>43.962222</td>\n",
       "      <td>44.594286</td>\n",
       "    </tr>\n",
       "    <tr>\n",
       "      <th>2004-12-20</th>\n",
       "      <td>22</td>\n",
       "      <td>44.330002</td>\n",
       "      <td>44.369999</td>\n",
       "      <td>44.130001</td>\n",
       "      <td>44.340000</td>\n",
       "      <td>43.876666</td>\n",
       "      <td>44.592381</td>\n",
       "    </tr>\n",
       "    <tr>\n",
       "      <th>2004-12-21</th>\n",
       "      <td>23</td>\n",
       "      <td>44.130001</td>\n",
       "      <td>44.240002</td>\n",
       "      <td>44.049999</td>\n",
       "      <td>44.220001</td>\n",
       "      <td>43.900000</td>\n",
       "      <td>44.565714</td>\n",
       "    </tr>\n",
       "    <tr>\n",
       "      <th>2004-12-22</th>\n",
       "      <td>24</td>\n",
       "      <td>44.200001</td>\n",
       "      <td>44.230000</td>\n",
       "      <td>43.889999</td>\n",
       "      <td>44.020000</td>\n",
       "      <td>43.926667</td>\n",
       "      <td>44.521428</td>\n",
       "    </tr>\n",
       "    <tr>\n",
       "      <th>2004-12-23</th>\n",
       "      <td>25</td>\n",
       "      <td>44.169998</td>\n",
       "      <td>44.349998</td>\n",
       "      <td>44.049999</td>\n",
       "      <td>44.270000</td>\n",
       "      <td>44.018889</td>\n",
       "      <td>44.498571</td>\n",
       "    </tr>\n",
       "  </tbody>\n",
       "</table>\n",
       "</div>"
      ],
      "text/plain": [
       "            day       Open       High        Low      Close      9-day  \\\n",
       "Date                                                                     \n",
       "2004-12-16   20  43.990002  44.049999  43.580002  43.680000  44.071111   \n",
       "2004-12-17   21  43.930000  44.220001  43.779999  44.189999  43.962222   \n",
       "2004-12-20   22  44.330002  44.369999  44.130001  44.340000  43.876666   \n",
       "2004-12-21   23  44.130001  44.240002  44.049999  44.220001  43.900000   \n",
       "2004-12-22   24  44.200001  44.230000  43.889999  44.020000  43.926667   \n",
       "2004-12-23   25  44.169998  44.349998  44.049999  44.270000  44.018889   \n",
       "\n",
       "               21-day  \n",
       "Date                   \n",
       "2004-12-16        NaN  \n",
       "2004-12-17  44.594286  \n",
       "2004-12-20  44.592381  \n",
       "2004-12-21  44.565714  \n",
       "2004-12-22  44.521428  \n",
       "2004-12-23  44.498571  "
      ]
     },
     "execution_count": 4,
     "metadata": {},
     "output_type": "execute_result"
    }
   ],
   "source": [
    "gld['9-day'] = gld['Close'].rolling(9).mean()            # Fast moving average, basing it on closing price \n",
    "gld['21-day'] = gld['Close'].rolling(21).mean()          # slow moving average, basing it on closing price\n",
    "gld[19:25]"
   ]
  },
  {
   "cell_type": "markdown",
   "id": "37ceaefa",
   "metadata": {
    "papermill": {
     "duration": 0.005535,
     "end_time": "2022-08-17T05:34:27.770731",
     "exception": false,
     "start_time": "2022-08-17T05:34:27.765196",
     "status": "completed"
    },
    "tags": []
   },
   "source": [
    "#### Add \"signal\" column  "
   ]
  },
  {
   "cell_type": "code",
   "execution_count": 5,
   "id": "b051d85f",
   "metadata": {
    "execution": {
     "iopub.execute_input": "2022-08-17T05:34:27.784284Z",
     "iopub.status.busy": "2022-08-17T05:34:27.783874Z",
     "iopub.status.idle": "2022-08-17T05:34:27.809719Z",
     "shell.execute_reply": "2022-08-17T05:34:27.808774Z"
    },
    "papermill": {
     "duration": 0.03709,
     "end_time": "2022-08-17T05:34:27.813624",
     "exception": false,
     "start_time": "2022-08-17T05:34:27.776534",
     "status": "completed"
    },
    "tags": []
   },
   "outputs": [
    {
     "name": "stderr",
     "output_type": "stream",
     "text": [
      "/opt/conda/lib/python3.7/site-packages/ipykernel_launcher.py:1: SettingWithCopyWarning: \n",
      "A value is trying to be set on a copy of a slice from a DataFrame.\n",
      "Try using .loc[row_indexer,col_indexer] = value instead\n",
      "\n",
      "See the caveats in the documentation: https://pandas.pydata.org/pandas-docs/stable/user_guide/indexing.html#returning-a-view-versus-a-copy\n",
      "  \"\"\"Entry point for launching an IPython kernel.\n",
      "/opt/conda/lib/python3.7/site-packages/ipykernel_launcher.py:2: SettingWithCopyWarning: \n",
      "A value is trying to be set on a copy of a slice from a DataFrame.\n",
      "Try using .loc[row_indexer,col_indexer] = value instead\n",
      "\n",
      "See the caveats in the documentation: https://pandas.pydata.org/pandas-docs/stable/user_guide/indexing.html#returning-a-view-versus-a-copy\n",
      "  \n",
      "/opt/conda/lib/python3.7/site-packages/pandas/util/_decorators.py:311: SettingWithCopyWarning: \n",
      "A value is trying to be set on a copy of a slice from a DataFrame\n",
      "\n",
      "See the caveats in the documentation: https://pandas.pydata.org/pandas-docs/stable/user_guide/indexing.html#returning-a-view-versus-a-copy\n",
      "  return func(*args, **kwargs)\n"
     ]
    },
    {
     "data": {
      "text/html": [
       "<div>\n",
       "<style scoped>\n",
       "    .dataframe tbody tr th:only-of-type {\n",
       "        vertical-align: middle;\n",
       "    }\n",
       "\n",
       "    .dataframe tbody tr th {\n",
       "        vertical-align: top;\n",
       "    }\n",
       "\n",
       "    .dataframe thead th {\n",
       "        text-align: right;\n",
       "    }\n",
       "</style>\n",
       "<table border=\"1\" class=\"dataframe\">\n",
       "  <thead>\n",
       "    <tr style=\"text-align: right;\">\n",
       "      <th></th>\n",
       "      <th>day</th>\n",
       "      <th>Open</th>\n",
       "      <th>High</th>\n",
       "      <th>Low</th>\n",
       "      <th>Close</th>\n",
       "      <th>9-day</th>\n",
       "      <th>21-day</th>\n",
       "      <th>signal</th>\n",
       "    </tr>\n",
       "    <tr>\n",
       "      <th>Date</th>\n",
       "      <th></th>\n",
       "      <th></th>\n",
       "      <th></th>\n",
       "      <th></th>\n",
       "      <th></th>\n",
       "      <th></th>\n",
       "      <th></th>\n",
       "      <th></th>\n",
       "    </tr>\n",
       "  </thead>\n",
       "  <tbody>\n",
       "    <tr>\n",
       "      <th>2004-12-17</th>\n",
       "      <td>21</td>\n",
       "      <td>43.930000</td>\n",
       "      <td>44.220001</td>\n",
       "      <td>43.779999</td>\n",
       "      <td>44.189999</td>\n",
       "      <td>43.962222</td>\n",
       "      <td>44.594286</td>\n",
       "      <td>-1</td>\n",
       "    </tr>\n",
       "    <tr>\n",
       "      <th>2004-12-20</th>\n",
       "      <td>22</td>\n",
       "      <td>44.330002</td>\n",
       "      <td>44.369999</td>\n",
       "      <td>44.130001</td>\n",
       "      <td>44.340000</td>\n",
       "      <td>43.876666</td>\n",
       "      <td>44.592381</td>\n",
       "      <td>-1</td>\n",
       "    </tr>\n",
       "    <tr>\n",
       "      <th>2004-12-21</th>\n",
       "      <td>23</td>\n",
       "      <td>44.130001</td>\n",
       "      <td>44.240002</td>\n",
       "      <td>44.049999</td>\n",
       "      <td>44.220001</td>\n",
       "      <td>43.900000</td>\n",
       "      <td>44.565714</td>\n",
       "      <td>-1</td>\n",
       "    </tr>\n",
       "    <tr>\n",
       "      <th>2004-12-22</th>\n",
       "      <td>24</td>\n",
       "      <td>44.200001</td>\n",
       "      <td>44.230000</td>\n",
       "      <td>43.889999</td>\n",
       "      <td>44.020000</td>\n",
       "      <td>43.926667</td>\n",
       "      <td>44.521428</td>\n",
       "      <td>-1</td>\n",
       "    </tr>\n",
       "    <tr>\n",
       "      <th>2004-12-23</th>\n",
       "      <td>25</td>\n",
       "      <td>44.169998</td>\n",
       "      <td>44.349998</td>\n",
       "      <td>44.049999</td>\n",
       "      <td>44.270000</td>\n",
       "      <td>44.018889</td>\n",
       "      <td>44.498571</td>\n",
       "      <td>-1</td>\n",
       "    </tr>\n",
       "  </tbody>\n",
       "</table>\n",
       "</div>"
      ],
      "text/plain": [
       "            day       Open       High        Low      Close      9-day  \\\n",
       "Date                                                                     \n",
       "2004-12-17   21  43.930000  44.220001  43.779999  44.189999  43.962222   \n",
       "2004-12-20   22  44.330002  44.369999  44.130001  44.340000  43.876666   \n",
       "2004-12-21   23  44.130001  44.240002  44.049999  44.220001  43.900000   \n",
       "2004-12-22   24  44.200001  44.230000  43.889999  44.020000  43.926667   \n",
       "2004-12-23   25  44.169998  44.349998  44.049999  44.270000  44.018889   \n",
       "\n",
       "               21-day  signal  \n",
       "Date                           \n",
       "2004-12-17  44.594286      -1  \n",
       "2004-12-20  44.592381      -1  \n",
       "2004-12-21  44.565714      -1  \n",
       "2004-12-22  44.521428      -1  \n",
       "2004-12-23  44.498571      -1  "
      ]
     },
     "execution_count": 5,
     "metadata": {},
     "output_type": "execute_result"
    }
   ],
   "source": [
    "gld['signal'] = np.where(gld['9-day'] > gld['21-day'], 1, 0)              # looking at where 9-day value> 21-day value\n",
    "gld['signal'] = np.where(gld['9-day'] < gld['21-day'], -1, gld['signal']) # looking at where 21-day value> 9-day value\n",
    "gld.dropna(inplace=True)\n",
    "gld.head()"
   ]
  },
  {
   "cell_type": "markdown",
   "id": "75c7cb34",
   "metadata": {
    "papermill": {
     "duration": 0.005838,
     "end_time": "2022-08-17T05:34:27.826253",
     "exception": false,
     "start_time": "2022-08-17T05:34:27.820415",
     "status": "completed"
    },
    "tags": []
   },
   "source": [
    "#### Calculate Instantaneous returns/system returns"
   ]
  },
  {
   "cell_type": "code",
   "execution_count": 6,
   "id": "9dc7701a",
   "metadata": {
    "execution": {
     "iopub.execute_input": "2022-08-17T05:34:27.840253Z",
     "iopub.status.busy": "2022-08-17T05:34:27.839846Z",
     "iopub.status.idle": "2022-08-17T05:34:27.870909Z",
     "shell.execute_reply": "2022-08-17T05:34:27.868937Z"
    },
    "papermill": {
     "duration": 0.041733,
     "end_time": "2022-08-17T05:34:27.874087",
     "exception": false,
     "start_time": "2022-08-17T05:34:27.832354",
     "status": "completed"
    },
    "tags": []
   },
   "outputs": [
    {
     "name": "stderr",
     "output_type": "stream",
     "text": [
      "/opt/conda/lib/python3.7/site-packages/ipykernel_launcher.py:1: SettingWithCopyWarning: \n",
      "A value is trying to be set on a copy of a slice from a DataFrame.\n",
      "Try using .loc[row_indexer,col_indexer] = value instead\n",
      "\n",
      "See the caveats in the documentation: https://pandas.pydata.org/pandas-docs/stable/user_guide/indexing.html#returning-a-view-versus-a-copy\n",
      "  \"\"\"Entry point for launching an IPython kernel.\n",
      "/opt/conda/lib/python3.7/site-packages/ipykernel_launcher.py:2: SettingWithCopyWarning: \n",
      "A value is trying to be set on a copy of a slice from a DataFrame.\n",
      "Try using .loc[row_indexer,col_indexer] = value instead\n",
      "\n",
      "See the caveats in the documentation: https://pandas.pydata.org/pandas-docs/stable/user_guide/indexing.html#returning-a-view-versus-a-copy\n",
      "  \n",
      "/opt/conda/lib/python3.7/site-packages/ipykernel_launcher.py:3: SettingWithCopyWarning: \n",
      "A value is trying to be set on a copy of a slice from a DataFrame.\n",
      "Try using .loc[row_indexer,col_indexer] = value instead\n",
      "\n",
      "See the caveats in the documentation: https://pandas.pydata.org/pandas-docs/stable/user_guide/indexing.html#returning-a-view-versus-a-copy\n",
      "  This is separate from the ipykernel package so we can avoid doing imports until\n"
     ]
    },
    {
     "data": {
      "text/html": [
       "<div>\n",
       "<style scoped>\n",
       "    .dataframe tbody tr th:only-of-type {\n",
       "        vertical-align: middle;\n",
       "    }\n",
       "\n",
       "    .dataframe tbody tr th {\n",
       "        vertical-align: top;\n",
       "    }\n",
       "\n",
       "    .dataframe thead th {\n",
       "        text-align: right;\n",
       "    }\n",
       "</style>\n",
       "<table border=\"1\" class=\"dataframe\">\n",
       "  <thead>\n",
       "    <tr style=\"text-align: right;\">\n",
       "      <th></th>\n",
       "      <th>day</th>\n",
       "      <th>Open</th>\n",
       "      <th>High</th>\n",
       "      <th>Low</th>\n",
       "      <th>Close</th>\n",
       "      <th>9-day</th>\n",
       "      <th>21-day</th>\n",
       "      <th>signal</th>\n",
       "      <th>return</th>\n",
       "      <th>system_return</th>\n",
       "      <th>entry</th>\n",
       "    </tr>\n",
       "    <tr>\n",
       "      <th>Date</th>\n",
       "      <th></th>\n",
       "      <th></th>\n",
       "      <th></th>\n",
       "      <th></th>\n",
       "      <th></th>\n",
       "      <th></th>\n",
       "      <th></th>\n",
       "      <th></th>\n",
       "      <th></th>\n",
       "      <th></th>\n",
       "      <th></th>\n",
       "    </tr>\n",
       "  </thead>\n",
       "  <tbody>\n",
       "    <tr>\n",
       "      <th>2004-12-17</th>\n",
       "      <td>21</td>\n",
       "      <td>43.930000</td>\n",
       "      <td>44.220001</td>\n",
       "      <td>43.779999</td>\n",
       "      <td>44.189999</td>\n",
       "      <td>43.962222</td>\n",
       "      <td>44.594286</td>\n",
       "      <td>-1</td>\n",
       "      <td>NaN</td>\n",
       "      <td>NaN</td>\n",
       "      <td>NaN</td>\n",
       "    </tr>\n",
       "    <tr>\n",
       "      <th>2004-12-20</th>\n",
       "      <td>22</td>\n",
       "      <td>44.330002</td>\n",
       "      <td>44.369999</td>\n",
       "      <td>44.130001</td>\n",
       "      <td>44.340000</td>\n",
       "      <td>43.876666</td>\n",
       "      <td>44.592381</td>\n",
       "      <td>-1</td>\n",
       "      <td>0.003389</td>\n",
       "      <td>-0.003389</td>\n",
       "      <td>0.0</td>\n",
       "    </tr>\n",
       "    <tr>\n",
       "      <th>2004-12-21</th>\n",
       "      <td>23</td>\n",
       "      <td>44.130001</td>\n",
       "      <td>44.240002</td>\n",
       "      <td>44.049999</td>\n",
       "      <td>44.220001</td>\n",
       "      <td>43.900000</td>\n",
       "      <td>44.565714</td>\n",
       "      <td>-1</td>\n",
       "      <td>-0.002710</td>\n",
       "      <td>0.002710</td>\n",
       "      <td>0.0</td>\n",
       "    </tr>\n",
       "    <tr>\n",
       "      <th>2004-12-22</th>\n",
       "      <td>24</td>\n",
       "      <td>44.200001</td>\n",
       "      <td>44.230000</td>\n",
       "      <td>43.889999</td>\n",
       "      <td>44.020000</td>\n",
       "      <td>43.926667</td>\n",
       "      <td>44.521428</td>\n",
       "      <td>-1</td>\n",
       "      <td>-0.004533</td>\n",
       "      <td>0.004533</td>\n",
       "      <td>0.0</td>\n",
       "    </tr>\n",
       "    <tr>\n",
       "      <th>2004-12-23</th>\n",
       "      <td>25</td>\n",
       "      <td>44.169998</td>\n",
       "      <td>44.349998</td>\n",
       "      <td>44.049999</td>\n",
       "      <td>44.270000</td>\n",
       "      <td>44.018889</td>\n",
       "      <td>44.498571</td>\n",
       "      <td>-1</td>\n",
       "      <td>0.005663</td>\n",
       "      <td>-0.005663</td>\n",
       "      <td>0.0</td>\n",
       "    </tr>\n",
       "  </tbody>\n",
       "</table>\n",
       "</div>"
      ],
      "text/plain": [
       "            day       Open       High        Low      Close      9-day  \\\n",
       "Date                                                                     \n",
       "2004-12-17   21  43.930000  44.220001  43.779999  44.189999  43.962222   \n",
       "2004-12-20   22  44.330002  44.369999  44.130001  44.340000  43.876666   \n",
       "2004-12-21   23  44.130001  44.240002  44.049999  44.220001  43.900000   \n",
       "2004-12-22   24  44.200001  44.230000  43.889999  44.020000  43.926667   \n",
       "2004-12-23   25  44.169998  44.349998  44.049999  44.270000  44.018889   \n",
       "\n",
       "               21-day  signal    return  system_return  entry  \n",
       "Date                                                           \n",
       "2004-12-17  44.594286      -1       NaN            NaN    NaN  \n",
       "2004-12-20  44.592381      -1  0.003389      -0.003389    0.0  \n",
       "2004-12-21  44.565714      -1 -0.002710       0.002710    0.0  \n",
       "2004-12-22  44.521428      -1 -0.004533       0.004533    0.0  \n",
       "2004-12-23  44.498571      -1  0.005663      -0.005663    0.0  "
      ]
     },
     "execution_count": 6,
     "metadata": {},
     "output_type": "execute_result"
    }
   ],
   "source": [
    "gld['return'] = np.log(gld['Close']).diff()\n",
    "gld['system_return'] = gld['signal'] * gld['return']\n",
    "gld['entry'] = gld.signal.diff()                         # a value to indicate whenever we change directions in a trade\n",
    "gld.head()"
   ]
  },
  {
   "cell_type": "markdown",
   "id": "9cfd9265",
   "metadata": {
    "papermill": {
     "duration": 0.006324,
     "end_time": "2022-08-17T05:34:27.887362",
     "exception": false,
     "start_time": "2022-08-17T05:34:27.881038",
     "status": "completed"
    },
    "tags": []
   },
   "source": [
    "### Plot trades on time series"
   ]
  },
  {
   "cell_type": "code",
   "execution_count": 7,
   "id": "14d6c6a2",
   "metadata": {
    "execution": {
     "iopub.execute_input": "2022-08-17T05:34:27.902244Z",
     "iopub.status.busy": "2022-08-17T05:34:27.901807Z",
     "iopub.status.idle": "2022-08-17T05:34:28.236152Z",
     "shell.execute_reply": "2022-08-17T05:34:28.235195Z"
    },
    "papermill": {
     "duration": 0.345035,
     "end_time": "2022-08-17T05:34:28.238811",
     "exception": false,
     "start_time": "2022-08-17T05:34:27.893776",
     "status": "completed"
    },
    "tags": []
   },
   "outputs": [
    {
     "data": {
      "image/png": "[encoded data removed]",
      "text/plain": [
       "<Figure size 864x432 with 1 Axes>"
      ]
     },
     "metadata": {
      "needs_background": "light"
     },
     "output_type": "display_data"
    }
   ],
   "source": [
    "plt.rcParams['figure.figsize'] = 12, 6                  # plotting GLD, 9-day, 21-day figures as line plot\n",
    "plt.grid(True, alpha = .3)\n",
    "plt.plot(gld.iloc[-252:]['Close'], label = 'GLD')\n",
    "plt.plot(gld.iloc[-252:]['9-day'], label = '9-day')\n",
    "plt.plot(gld.iloc[-252:]['21-day'], label = '21-day')\n",
    "plt.plot(gld[-252:].loc[gld.entry == 2].index, gld[-252:]['9-day'][gld.entry == 2], '^',\n",
    "         color = 'g', markersize = 12)\n",
    "plt.plot(gld[-252:].loc[gld.entry == -2].index, gld[-252:]['21-day'][gld.entry == -2], 'v',\n",
    "         color = 'r', markersize = 12)\n",
    "plt.legend(loc=2);"
   ]
  },
  {
   "cell_type": "markdown",
   "id": "f6d351b4",
   "metadata": {
    "papermill": {
     "duration": 0.007216,
     "end_time": "2022-08-17T05:34:28.253514",
     "exception": false,
     "start_time": "2022-08-17T05:34:28.246298",
     "status": "completed"
    },
    "tags": []
   },
   "source": [
    "### Vizualizing how this system performs over the entire time frame of 5 years vs the buy/hold strategy"
   ]
  },
  {
   "cell_type": "code",
   "execution_count": 8,
   "id": "d868d5a8",
   "metadata": {
    "execution": {
     "iopub.execute_input": "2022-08-17T05:34:28.271113Z",
     "iopub.status.busy": "2022-08-17T05:34:28.269861Z",
     "iopub.status.idle": "2022-08-17T05:34:28.573892Z",
     "shell.execute_reply": "2022-08-17T05:34:28.572725Z"
    },
    "papermill": {
     "duration": 0.31541,
     "end_time": "2022-08-17T05:34:28.576535",
     "exception": false,
     "start_time": "2022-08-17T05:34:28.261125",
     "status": "completed"
    },
    "tags": []
   },
   "outputs": [
    {
     "data": {
      "image/png": "[encoded data removed]",
      "text/plain": [
       "<Figure size 864x432 with 1 Axes>"
      ]
     },
     "metadata": {
      "needs_background": "light"
     },
     "output_type": "display_data"
    }
   ],
   "source": [
    "plt.plot(np.exp(gld['return']).cumprod(), label='Buy/Hold')\n",
    "plt.plot(np.exp(gld['system_return']).cumprod(), label='System')\n",
    "plt.legend(loc=2)\n",
    "plt.grid(True, alpha=.3)"
   ]
  },
  {
   "cell_type": "code",
   "execution_count": 9,
   "id": "b681b565",
   "metadata": {
    "execution": {
     "iopub.execute_input": "2022-08-17T05:34:28.594929Z",
     "iopub.status.busy": "2022-08-17T05:34:28.594455Z",
     "iopub.status.idle": "2022-08-17T05:34:28.602827Z",
     "shell.execute_reply": "2022-08-17T05:34:28.601632Z"
    },
    "papermill": {
     "duration": 0.020754,
     "end_time": "2022-08-17T05:34:28.605750",
     "exception": false,
     "start_time": "2022-08-17T05:34:28.584996",
     "status": "completed"
    },
    "tags": []
   },
   "outputs": [
    {
     "data": {
      "text/plain": [
       "2.743380930294142"
      ]
     },
     "execution_count": 9,
     "metadata": {},
     "output_type": "execute_result"
    }
   ],
   "source": [
    "np.exp(gld['return']).cumprod()[-1] -1                      # return for just the last-day"
   ]
  },
  {
   "cell_type": "code",
   "execution_count": 10,
   "id": "a65262c3",
   "metadata": {
    "execution": {
     "iopub.execute_input": "2022-08-17T05:34:28.625286Z",
     "iopub.status.busy": "2022-08-17T05:34:28.624699Z",
     "iopub.status.idle": "2022-08-17T05:34:28.632687Z",
     "shell.execute_reply": "2022-08-17T05:34:28.631701Z"
    },
    "papermill": {
     "duration": 0.020032,
     "end_time": "2022-08-17T05:34:28.634990",
     "exception": false,
     "start_time": "2022-08-17T05:34:28.614958",
     "status": "completed"
    },
    "tags": []
   },
   "outputs": [
    {
     "data": {
      "text/plain": [
       "7.5400276758474565"
      ]
     },
     "execution_count": 10,
     "metadata": {},
     "output_type": "execute_result"
    }
   ],
   "source": [
    "np.exp(gld['system_return']).cumprod()[-1] -1                # system return for just the last day"
   ]
  },
  {
   "cell_type": "markdown",
   "id": "96cb0f5c",
   "metadata": {
    "papermill": {
     "duration": 0.008273,
     "end_time": "2022-08-17T05:34:28.652105",
     "exception": false,
     "start_time": "2022-08-17T05:34:28.643832",
     "status": "completed"
    },
    "tags": []
   },
   "source": [
    "## Conclusion: Using the plots and looking at return rates we can decide when to go long or short and when to buy/hold"
   ]
  }
 ],
 "metadata": {
  "kernelspec": {
   "display_name": "Python 3",
   "language": "python",
   "name": "python3"
  },
  "language_info": {
   "codemirror_mode": {
    "name": "ipython",
    "version": 3
   },
   "file_extension": ".py",
   "mimetype": "text/x-python",
   "name": "python",
   "nbconvert_exporter": "python",
   "pygments_lexer": "ipython3",
   "version": "3.7.12"
  },
  "papermill": {
   "default_parameters": {},
   "duration": 25.962611,
   "end_time": "2022-08-17T05:34:29.381872",
   "environment_variables": {},
   "exception": null,
   "input_path": "__notebook__.ipynb",
   "output_path": "__notebook__.ipynb",
   "parameters": {},
   "start_time": "2022-08-17T05:34:03.419261",
   "version": "2.3.4"
  }
 },
 "nbformat": 4,
 "nbformat_minor": 5
}
